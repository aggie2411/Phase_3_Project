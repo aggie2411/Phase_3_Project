{
 "cells": [
  {
   "cell_type": "markdown",
   "metadata": {},
   "source": [
    "# Decision Tree"
   ]
  },
  {
   "cell_type": "code",
   "execution_count": 1,
   "metadata": {},
   "outputs": [],
   "source": [
    "%load_ext autoreload\n",
    "%autoreload 2\n",
    "#%reload_ext autoreload\n",
    "import glob\n",
    "import pandas as pd\n",
    "import numpy as np\n",
    "import seaborn as sns\n",
    "import matplotlib.pyplot as plt\n",
    "import folium\n",
    "import geopandas\n",
    "import geopy\n",
    "from sklearn.linear_model import LinearRegression\n",
    "from sklearn.preprocessing import PolynomialFeatures\n",
    "from sklearn.model_selection import cross_val_score\n",
    "from sklearn.model_selection import KFold\n",
    "import statsmodels.api as sm\n",
    "import statsmodels.stats.api as sms\n",
    "from statsmodels.formula.api import ols\n",
    "from statsmodels.stats.diagnostic import linear_rainbow, het_breuschpagan\n",
    "from statsmodels.stats.outliers_influence import variance_inflation_factor\n",
    "from sklearn.preprocessing import LabelEncoder, OneHotEncoder\n",
    "from sklearn.metrics import mean_squared_error, make_scorer\n",
    "from geopy.geocoders import Nominatim\n",
    "from geopy.extra.rate_limiter import RateLimiter\n",
    "import folium.plugins as plugins\n",
    "import math\n",
    "from math import sin, cos, sqrt, atan2, radians\n",
    "from haversine import haversine\n",
    "from itertools import combinations\n",
    "import json\n",
    "%matplotlib inline\n",
    "pd.set_option(\"display.max_columns\", 200)\n",
    "pd.set_option(\"display.max_rows\", 200)\n",
    "import sys\n",
    "import os\n",
    "from sklearn.linear_model import LogisticRegression\n",
    "from sklearn.model_selection import train_test_split\n",
    "from sklearn.preprocessing import StandardScaler\n",
    "from sklearn.compose import ColumnTransformer\n",
    "from sklearn.metrics import confusion_matrix\n",
    "from sklearn.metrics import classification_report\n",
    "from sklearn.metrics import plot_confusion_matrix\n",
    "from sklearn.metrics import roc_curve, auc\n",
    "from sklearn.metrics import roc_auc_score\n",
    "from sklearn.preprocessing import LabelBinarizer\n",
    "from sklearn.multiclass import OneVsRestClassifier\n",
    "from sklearn.compose import make_column_selector\n",
    "from sklearn.compose import make_column_transformer\n",
    "from sklearn.pipeline import make_pipeline\n",
    "from imblearn.over_sampling import SMOTE\n",
    "from  sklearn.metrics import precision_recall_fscore_support, precision_recall_curve\n",
    "from imblearn.pipeline import make_pipeline as mp\n",
    "from sklearn.tree import DecisionTreeClassifier\n",
    "from sklearn.metrics import accuracy_score, precision_score\n",
    "path_to_src = '..\\src'\n",
    "sys.path.insert(0, path_to_src)\n",
    "from useful_functions import *"
   ]
  },
  {
   "cell_type": "markdown",
   "metadata": {},
   "source": [
    "## Import Data"
   ]
  },
  {
   "cell_type": "code",
   "execution_count": 2,
   "metadata": {},
   "outputs": [
    {
     "data": {
      "text/html": [
       "<div>\n",
       "<style scoped>\n",
       "    .dataframe tbody tr th:only-of-type {\n",
       "        vertical-align: middle;\n",
       "    }\n",
       "\n",
       "    .dataframe tbody tr th {\n",
       "        vertical-align: top;\n",
       "    }\n",
       "\n",
       "    .dataframe thead th {\n",
       "        text-align: right;\n",
       "    }\n",
       "</style>\n",
       "<table border=\"1\" class=\"dataframe\">\n",
       "  <thead>\n",
       "    <tr style=\"text-align: right;\">\n",
       "      <th></th>\n",
       "      <th>longitude</th>\n",
       "      <th>latitude</th>\n",
       "      <th>basin</th>\n",
       "      <th>region</th>\n",
       "      <th>district_code</th>\n",
       "      <th>public_meeting</th>\n",
       "      <th>permit</th>\n",
       "      <th>extraction_type</th>\n",
       "      <th>management</th>\n",
       "      <th>payment</th>\n",
       "      <th>water_quality</th>\n",
       "      <th>quantity</th>\n",
       "      <th>source</th>\n",
       "      <th>waterpoint_type</th>\n",
       "      <th>pop_log</th>\n",
       "      <th>age</th>\n",
       "      <th>status_group</th>\n",
       "    </tr>\n",
       "  </thead>\n",
       "  <tbody>\n",
       "    <tr>\n",
       "      <th>0</th>\n",
       "      <td>34.94</td>\n",
       "      <td>-9.86</td>\n",
       "      <td>Lake Nyasa</td>\n",
       "      <td>Iringa</td>\n",
       "      <td>DD5</td>\n",
       "      <td>True</td>\n",
       "      <td>False</td>\n",
       "      <td>gravity</td>\n",
       "      <td>vwc</td>\n",
       "      <td>pay annually</td>\n",
       "      <td>soft</td>\n",
       "      <td>enough</td>\n",
       "      <td>spring</td>\n",
       "      <td>communal standpipe</td>\n",
       "      <td>4.691348</td>\n",
       "      <td>12</td>\n",
       "      <td>functional</td>\n",
       "    </tr>\n",
       "    <tr>\n",
       "      <th>1</th>\n",
       "      <td>34.70</td>\n",
       "      <td>-2.15</td>\n",
       "      <td>Lake Victoria</td>\n",
       "      <td>Mara</td>\n",
       "      <td>DD2</td>\n",
       "      <td>True</td>\n",
       "      <td>True</td>\n",
       "      <td>gravity</td>\n",
       "      <td>wug</td>\n",
       "      <td>never pay</td>\n",
       "      <td>soft</td>\n",
       "      <td>insufficient</td>\n",
       "      <td>rainwater harvesting</td>\n",
       "      <td>communal standpipe</td>\n",
       "      <td>5.634790</td>\n",
       "      <td>3</td>\n",
       "      <td>functional</td>\n",
       "    </tr>\n",
       "    <tr>\n",
       "      <th>2</th>\n",
       "      <td>37.46</td>\n",
       "      <td>-3.82</td>\n",
       "      <td>Pangani</td>\n",
       "      <td>Manyara</td>\n",
       "      <td>DD4</td>\n",
       "      <td>True</td>\n",
       "      <td>True</td>\n",
       "      <td>gravity</td>\n",
       "      <td>vwc</td>\n",
       "      <td>pay per bucket</td>\n",
       "      <td>soft</td>\n",
       "      <td>enough</td>\n",
       "      <td>dam</td>\n",
       "      <td>communal standpipe multiple</td>\n",
       "      <td>5.521461</td>\n",
       "      <td>4</td>\n",
       "      <td>functional</td>\n",
       "    </tr>\n",
       "    <tr>\n",
       "      <th>3</th>\n",
       "      <td>38.49</td>\n",
       "      <td>-11.16</td>\n",
       "      <td>Ruvuma / Southern Coast</td>\n",
       "      <td>Mtwara</td>\n",
       "      <td>DD63</td>\n",
       "      <td>True</td>\n",
       "      <td>True</td>\n",
       "      <td>submersible</td>\n",
       "      <td>vwc</td>\n",
       "      <td>never pay</td>\n",
       "      <td>soft</td>\n",
       "      <td>dry</td>\n",
       "      <td>machine dbh</td>\n",
       "      <td>communal standpipe multiple</td>\n",
       "      <td>4.060443</td>\n",
       "      <td>27</td>\n",
       "      <td>non functional</td>\n",
       "    </tr>\n",
       "    <tr>\n",
       "      <th>4</th>\n",
       "      <td>31.13</td>\n",
       "      <td>-1.83</td>\n",
       "      <td>Lake Victoria</td>\n",
       "      <td>Kagera</td>\n",
       "      <td>DD1</td>\n",
       "      <td>True</td>\n",
       "      <td>True</td>\n",
       "      <td>gravity</td>\n",
       "      <td>other</td>\n",
       "      <td>never pay</td>\n",
       "      <td>soft</td>\n",
       "      <td>seasonal</td>\n",
       "      <td>rainwater harvesting</td>\n",
       "      <td>communal standpipe</td>\n",
       "      <td>6.092055</td>\n",
       "      <td>14</td>\n",
       "      <td>functional</td>\n",
       "    </tr>\n",
       "  </tbody>\n",
       "</table>\n",
       "</div>"
      ],
      "text/plain": [
       "   longitude  latitude                    basin   region district_code  \\\n",
       "0      34.94     -9.86               Lake Nyasa   Iringa           DD5   \n",
       "1      34.70     -2.15            Lake Victoria     Mara           DD2   \n",
       "2      37.46     -3.82                  Pangani  Manyara           DD4   \n",
       "3      38.49    -11.16  Ruvuma / Southern Coast   Mtwara          DD63   \n",
       "4      31.13     -1.83            Lake Victoria   Kagera           DD1   \n",
       "\n",
       "   public_meeting  permit extraction_type management         payment  \\\n",
       "0            True   False         gravity        vwc    pay annually   \n",
       "1            True    True         gravity        wug       never pay   \n",
       "2            True    True         gravity        vwc  pay per bucket   \n",
       "3            True    True     submersible        vwc       never pay   \n",
       "4            True    True         gravity      other       never pay   \n",
       "\n",
       "  water_quality      quantity                source  \\\n",
       "0          soft        enough                spring   \n",
       "1          soft  insufficient  rainwater harvesting   \n",
       "2          soft        enough                   dam   \n",
       "3          soft           dry           machine dbh   \n",
       "4          soft      seasonal  rainwater harvesting   \n",
       "\n",
       "               waterpoint_type   pop_log  age    status_group  \n",
       "0           communal standpipe  4.691348   12      functional  \n",
       "1           communal standpipe  5.634790    3      functional  \n",
       "2  communal standpipe multiple  5.521461    4      functional  \n",
       "3  communal standpipe multiple  4.060443   27  non functional  \n",
       "4           communal standpipe  6.092055   14      functional  "
      ]
     },
     "execution_count": 2,
     "metadata": {},
     "output_type": "execute_result"
    }
   ],
   "source": [
    "df = pd.read_csv('../data/train.csv')\n",
    "validate = pd.read_csv('../data/validate.csv')\n",
    "\n",
    "df.head()"
   ]
  },
  {
   "cell_type": "markdown",
   "metadata": {},
   "source": [
    "## Split Data"
   ]
  },
  {
   "cell_type": "code",
   "execution_count": 3,
   "metadata": {},
   "outputs": [],
   "source": [
    "X = df.drop('status_group', axis=1)\n",
    "y = df['status_group']\n",
    "\n",
    "X_train, X_test, y_train, y_test = train_test_split(X, y, random_state=42)"
   ]
  },
  {
   "cell_type": "markdown",
   "metadata": {},
   "source": [
    "## Create Pipeline"
   ]
  },
  {
   "cell_type": "code",
   "execution_count": 4,
   "metadata": {},
   "outputs": [],
   "source": [
    "number_selector = make_column_selector(dtype_include='number', dtype_exclude=['object', 'bool'])\n",
    "string_selector = make_column_selector(dtype_include=['object', 'bool'])\n",
    "\n",
    "preprocessing = make_column_transformer((OneHotEncoder(handle_unknown='ignore'), string_selector),\n",
    "                                        (StandardScaler(), number_selector),\n",
    "                                       remainder='passthrough')\n",
    "dt_pipeline = mp(preprocessing,  SMOTE(random_state=42, n_jobs=-1, sampling_strategy='auto'), \\\n",
    "                   DecisionTreeClassifier(random_state=42))"
   ]
  },
  {
   "cell_type": "markdown",
   "metadata": {},
   "source": [
    "## Fit Data"
   ]
  },
  {
   "cell_type": "code",
   "execution_count": 5,
   "metadata": {
    "scrolled": true
   },
   "outputs": [
    {
     "data": {
      "text/plain": [
       "Pipeline(steps=[('columntransformer',\n",
       "                 ColumnTransformer(remainder='passthrough',\n",
       "                                   transformers=[('onehotencoder',\n",
       "                                                  OneHotEncoder(handle_unknown='ignore'),\n",
       "                                                  <sklearn.compose._column_transformer.make_column_selector object at 0x0000021CA3CB91F0>),\n",
       "                                                 ('standardscaler',\n",
       "                                                  StandardScaler(),\n",
       "                                                  <sklearn.compose._column_transformer.make_column_selector object at 0x0000021CA3CB9250>)])),\n",
       "                ('smote', SMOTE(n_jobs=-1, random_state=42)),\n",
       "                ('decisiontreeclassifier',\n",
       "                 DecisionTreeClassifier(random_state=42))])"
      ]
     },
     "execution_count": 5,
     "metadata": {},
     "output_type": "execute_result"
    }
   ],
   "source": [
    "dt_pipeline.fit(X_train, y_train)"
   ]
  },
  {
   "cell_type": "markdown",
   "metadata": {},
   "source": [
    "## Generate Predicted Data for Train and Test"
   ]
  },
  {
   "cell_type": "code",
   "execution_count": 6,
   "metadata": {},
   "outputs": [],
   "source": [
    "y_hat_train = dt_pipeline.predict(X_train)\n",
    "y_hat_test = dt_pipeline.predict(X_test)"
   ]
  },
  {
   "cell_type": "markdown",
   "metadata": {},
   "source": [
    "## Determine Model Performance"
   ]
  },
  {
   "cell_type": "code",
   "execution_count": 7,
   "metadata": {},
   "outputs": [
    {
     "name": "stdout",
     "output_type": "stream",
     "text": [
      "                         precision    recall  f1-score   support\n",
      "\n",
      "             functional       0.98      1.00      0.99     16207\n",
      "functional needs repair       0.96      0.95      0.95      2193\n",
      "         non functional       1.00      0.98      0.99     11600\n",
      "\n",
      "               accuracy                           0.99     30000\n",
      "              macro avg       0.98      0.97      0.98     30000\n",
      "           weighted avg       0.99      0.99      0.99     30000\n",
      "\n"
     ]
    }
   ],
   "source": [
    "print(classification_report(y_train, y_hat_train))"
   ]
  },
  {
   "cell_type": "code",
   "execution_count": 8,
   "metadata": {
    "scrolled": true
   },
   "outputs": [
    {
     "name": "stdout",
     "output_type": "stream",
     "text": [
      "                         precision    recall  f1-score   support\n",
      "\n",
      "             functional       0.79      0.77      0.78      5427\n",
      "functional needs repair       0.34      0.38      0.36       754\n",
      "         non functional       0.75      0.76      0.75      3819\n",
      "\n",
      "               accuracy                           0.74     10000\n",
      "              macro avg       0.63      0.64      0.63     10000\n",
      "           weighted avg       0.74      0.74      0.74     10000\n",
      "\n"
     ]
    }
   ],
   "source": [
    "print(classification_report(y_test, y_hat_test))"
   ]
  },
  {
   "cell_type": "markdown",
   "metadata": {},
   "source": [
    "## Validate"
   ]
  },
  {
   "cell_type": "code",
   "execution_count": 56,
   "metadata": {},
   "outputs": [
    {
     "name": "stdout",
     "output_type": "stream",
     "text": [
      "5 fold cross-validation score: 0.7355\n"
     ]
    }
   ],
   "source": [
    "score = cross_val_score(dt_pipeline, X_train, y_train, scoring='accuracy').mean()\n",
    "print('5 fold cross-validation score:', score.round(5))"
   ]
  },
  {
   "cell_type": "code",
   "execution_count": 10,
   "metadata": {},
   "outputs": [],
   "source": [
    "test_results = classification_report(y_test, y_hat_test, output_dict=True)"
   ]
  },
  {
   "cell_type": "code",
   "execution_count": 13,
   "metadata": {},
   "outputs": [
    {
     "data": {
      "image/png": "[encoded data removed]",
      "text/plain": [
       "<Figure size 432x288 with 2 Axes>"
      ]
     },
     "metadata": {
      "needs_background": "light"
     },
     "output_type": "display_data"
    }
   ],
   "source": [
    "plot_confusion_matrix(dt_pipeline, X_test, y_test, xticks_rotation=70)  \n",
    "plt.show() "
   ]
  },
  {
   "cell_type": "code",
   "execution_count": 14,
   "metadata": {},
   "outputs": [
    {
     "data": {
      "image/png": "[encoded data removed]",
      "text/plain": [
       "<Figure size 432x288 with 2 Axes>"
      ]
     },
     "metadata": {
      "needs_background": "light"
     },
     "output_type": "display_data"
    }
   ],
   "source": [
    "plot_confusion_matrix(dt_pipeline, X_train, y_train, xticks_rotation=70)  \n",
    "plt.show() "
   ]
  },
  {
   "cell_type": "markdown",
   "metadata": {},
   "source": [
    "## Model Tuning\n",
    "\n",
    "Clearly the decision tree baseline suffers from overfitting, the training performance is far superior than the test data. There are some hyperparameters that can be tuned in order to improve this situation.\n",
    "\n",
    "- Maximum Tree Depth\n",
    "- Minimum Sample Split\n",
    "- Minimum Sample Leafs\n",
    "- Maximum Features"
   ]
  },
  {
   "cell_type": "markdown",
   "metadata": {},
   "source": [
    "### Maximum Tree Depth"
   ]
  },
  {
   "cell_type": "code",
   "execution_count": 19,
   "metadata": {},
   "outputs": [],
   "source": [
    "def max_depth_search():\n",
    "    max_depths = np.linspace(1, 32, 16, endpoint=True)\n",
    "    md_train_results = []\n",
    "    md_test_results = []\n",
    "    for max_depth in max_depths:\n",
    "       dt = mp(preprocessing,  SMOTE(random_state=42, n_jobs=-1, sampling_strategy='auto'), \\\n",
    "                       DecisionTreeClassifier(max_depth=max_depth, random_state=42))\n",
    "       dt.fit(X_train, y_train)\n",
    "       train_pred = dt.predict(X_train)\n",
    "       train_results = classification_report(y_train, train_pred, output_dict=True)\n",
    "       md_train_results.append(train_results['accuracy']) \n",
    "       test_pred = dt.predict(X_test)\n",
    "       test_results = classification_report(y_test, test_pred, output_dict=True)\n",
    "       md_test_results.append(test_results['accuracy'])\n",
    "\n",
    "    plt.figure(figsize=(12,6))\n",
    "    plt.plot(max_depths, md_train_results, 'b', label='Train accuracy')\n",
    "    plt.plot(max_depths, md_test_results, 'r', label='Test accuracy')\n",
    "    plt.ylabel('Accuracy')\n",
    "    plt.xlabel('Tree depth')\n",
    "    plt.legend()\n",
    "    plt.show()"
   ]
  },
  {
   "cell_type": "code",
   "execution_count": 20,
   "metadata": {
    "scrolled": false
   },
   "outputs": [
    {
     "name": "stderr",
     "output_type": "stream",
     "text": [
      "C:\\Users\\Andrew\\anaconda3\\envs\\new-env\\lib\\site-packages\\sklearn\\metrics\\_classification.py:1221: UndefinedMetricWarning: Precision and F-score are ill-defined and being set to 0.0 in labels with no predicted samples. Use `zero_division` parameter to control this behavior.\n",
      "  _warn_prf(average, modifier, msg_start, len(result))\n",
      "C:\\Users\\Andrew\\anaconda3\\envs\\new-env\\lib\\site-packages\\sklearn\\metrics\\_classification.py:1221: UndefinedMetricWarning: Precision and F-score are ill-defined and being set to 0.0 in labels with no predicted samples. Use `zero_division` parameter to control this behavior.\n",
      "  _warn_prf(average, modifier, msg_start, len(result))\n"
     ]
    },
    {
     "data": {
      "image/png": "[encoded data removed]",
      "text/plain": [
       "<Figure size 864x432 with 1 Axes>"
      ]
     },
     "metadata": {
      "needs_background": "light"
     },
     "output_type": "display_data"
    }
   ],
   "source": [
    "max_depth_search()"
   ]
  },
  {
   "cell_type": "markdown",
   "metadata": {},
   "source": [
    "Focusing on functional needs repair label where I am trying to optimise recall i.e reduce the number of false negatives so pumps that need repair have the best chance of being highlighted. Maximum depth looks optimal at 20, beyond this it is just overfitting the training data "
   ]
  },
  {
   "cell_type": "markdown",
   "metadata": {},
   "source": [
    "## Minimum Sample Split"
   ]
  },
  {
   "cell_type": "code",
   "execution_count": 22,
   "metadata": {},
   "outputs": [],
   "source": [
    "def min_samples_search():\n",
    "    min_samples = np.linspace(0.1, 1.0, 10, endpoint=True)\n",
    "    ms_train_results = []\n",
    "    ms_test_results = []\n",
    "    for min_sample in min_samples:\n",
    "       dt = mp(preprocessing,  SMOTE(random_state=42, n_jobs=-1, sampling_strategy='auto'), \\\n",
    "                       DecisionTreeClassifier(min_samples_split=min_sample, random_state=42))\n",
    "       dt.fit(X_train, y_train)\n",
    "       train_pred = dt.predict(X_train)\n",
    "       train_results = classification_report(y_train, train_pred, output_dict=True)\n",
    "       ms_train_results.append(train_results['accuracy']) \n",
    "       test_pred = dt.predict(X_test)\n",
    "       test_results = classification_report(y_test, test_pred, output_dict=True)\n",
    "       ms_test_results.append(test_results['accuracy'])\n",
    "\n",
    "    plt.figure(figsize=(12,6))\n",
    "    plt.plot(min_samples, ms_train_results, 'b', label='Train accuracy')\n",
    "    plt.plot(min_samples, ms_test_results, 'r', label='Test accuracy')\n",
    "    plt.ylabel('Accuracy')\n",
    "    plt.xlabel('Sample Split')\n",
    "    plt.legend()\n",
    "    plt.show()"
   ]
  },
  {
   "cell_type": "code",
   "execution_count": 23,
   "metadata": {},
   "outputs": [
    {
     "name": "stderr",
     "output_type": "stream",
     "text": [
      "C:\\Users\\Andrew\\anaconda3\\envs\\new-env\\lib\\site-packages\\sklearn\\metrics\\_classification.py:1221: UndefinedMetricWarning: Precision and F-score are ill-defined and being set to 0.0 in labels with no predicted samples. Use `zero_division` parameter to control this behavior.\n",
      "  _warn_prf(average, modifier, msg_start, len(result))\n",
      "C:\\Users\\Andrew\\anaconda3\\envs\\new-env\\lib\\site-packages\\sklearn\\metrics\\_classification.py:1221: UndefinedMetricWarning: Precision and F-score are ill-defined and being set to 0.0 in labels with no predicted samples. Use `zero_division` parameter to control this behavior.\n",
      "  _warn_prf(average, modifier, msg_start, len(result))\n",
      "C:\\Users\\Andrew\\anaconda3\\envs\\new-env\\lib\\site-packages\\sklearn\\metrics\\_classification.py:1221: UndefinedMetricWarning: Precision and F-score are ill-defined and being set to 0.0 in labels with no predicted samples. Use `zero_division` parameter to control this behavior.\n",
      "  _warn_prf(average, modifier, msg_start, len(result))\n",
      "C:\\Users\\Andrew\\anaconda3\\envs\\new-env\\lib\\site-packages\\sklearn\\metrics\\_classification.py:1221: UndefinedMetricWarning: Precision and F-score are ill-defined and being set to 0.0 in labels with no predicted samples. Use `zero_division` parameter to control this behavior.\n",
      "  _warn_prf(average, modifier, msg_start, len(result))\n"
     ]
    },
    {
     "data": {
      "image/png": "[encoded data removed]",
      "text/plain": [
       "<Figure size 864x432 with 1 Axes>"
      ]
     },
     "metadata": {
      "needs_background": "light"
     },
     "output_type": "display_data"
    }
   ],
   "source": [
    "min_samples_search()"
   ]
  },
  {
   "cell_type": "markdown",
   "metadata": {},
   "source": [
    "Optimal number here is 0.8"
   ]
  },
  {
   "cell_type": "markdown",
   "metadata": {},
   "source": [
    "## Minimum Sample Leafs"
   ]
  },
  {
   "cell_type": "code",
   "execution_count": 33,
   "metadata": {},
   "outputs": [],
   "source": [
    "def min_samples_leafs():\n",
    "    min_leafs = [0.1,0.2,0.3,0.4, 0.5, 1]\n",
    "    ml_train_results = []\n",
    "    ml_test_results = []\n",
    "    for min_leaf in min_leafs:\n",
    "       dt = mp(preprocessing,  SMOTE(random_state=42, n_jobs=-1, sampling_strategy='auto'), \\\n",
    "                       DecisionTreeClassifier(min_samples_leaf=min_leaf, random_state=42))\n",
    "       dt.fit(X_train, y_train)\n",
    "       train_pred = dt.predict(X_train)\n",
    "       train_results = classification_report(y_train, train_pred, output_dict=True)\n",
    "       ml_train_results.append(train_results['accuracy']) \n",
    "       test_pred = dt.predict(X_test)\n",
    "       test_results = classification_report(y_test, test_pred, output_dict=True)\n",
    "       ml_test_results.append(test_results['accuracy'])\n",
    "\n",
    "    plt.figure(figsize=(12,6))\n",
    "    plt.plot(min_leafs, ml_train_results, 'b', label='Train accuracy')\n",
    "    plt.plot(min_leafs, ml_test_results, 'r', label='Test accuracy')\n",
    "    plt.ylabel('Accuracy')\n",
    "    plt.xlabel('Sample Leafs')\n",
    "    plt.legend()\n",
    "    plt.show()"
   ]
  },
  {
   "cell_type": "code",
   "execution_count": 34,
   "metadata": {},
   "outputs": [
    {
     "name": "stderr",
     "output_type": "stream",
     "text": [
      "C:\\Users\\Andrew\\anaconda3\\envs\\new-env\\lib\\site-packages\\sklearn\\metrics\\_classification.py:1221: UndefinedMetricWarning: Precision and F-score are ill-defined and being set to 0.0 in labels with no predicted samples. Use `zero_division` parameter to control this behavior.\n",
      "  _warn_prf(average, modifier, msg_start, len(result))\n",
      "C:\\Users\\Andrew\\anaconda3\\envs\\new-env\\lib\\site-packages\\sklearn\\metrics\\_classification.py:1221: UndefinedMetricWarning: Precision and F-score are ill-defined and being set to 0.0 in labels with no predicted samples. Use `zero_division` parameter to control this behavior.\n",
      "  _warn_prf(average, modifier, msg_start, len(result))\n",
      "C:\\Users\\Andrew\\anaconda3\\envs\\new-env\\lib\\site-packages\\sklearn\\metrics\\_classification.py:1221: UndefinedMetricWarning: Precision and F-score are ill-defined and being set to 0.0 in labels with no predicted samples. Use `zero_division` parameter to control this behavior.\n",
      "  _warn_prf(average, modifier, msg_start, len(result))\n",
      "C:\\Users\\Andrew\\anaconda3\\envs\\new-env\\lib\\site-packages\\sklearn\\metrics\\_classification.py:1221: UndefinedMetricWarning: Precision and F-score are ill-defined and being set to 0.0 in labels with no predicted samples. Use `zero_division` parameter to control this behavior.\n",
      "  _warn_prf(average, modifier, msg_start, len(result))\n",
      "C:\\Users\\Andrew\\anaconda3\\envs\\new-env\\lib\\site-packages\\sklearn\\metrics\\_classification.py:1221: UndefinedMetricWarning: Precision and F-score are ill-defined and being set to 0.0 in labels with no predicted samples. Use `zero_division` parameter to control this behavior.\n",
      "  _warn_prf(average, modifier, msg_start, len(result))\n",
      "C:\\Users\\Andrew\\anaconda3\\envs\\new-env\\lib\\site-packages\\sklearn\\metrics\\_classification.py:1221: UndefinedMetricWarning: Precision and F-score are ill-defined and being set to 0.0 in labels with no predicted samples. Use `zero_division` parameter to control this behavior.\n",
      "  _warn_prf(average, modifier, msg_start, len(result))\n"
     ]
    },
    {
     "data": {
      "image/png": "[encoded data removed]",
      "text/plain": [
       "<Figure size 864x432 with 1 Axes>"
      ]
     },
     "metadata": {
      "needs_background": "light"
     },
     "output_type": "display_data"
    }
   ],
   "source": [
    "min_samples_leafs()"
   ]
  },
  {
   "cell_type": "markdown",
   "metadata": {},
   "source": [
    "Optimal value is 0.5, although 1 has the best score there is too much overfitting in the train data."
   ]
  },
  {
   "cell_type": "markdown",
   "metadata": {},
   "source": [
    "## Maximum Features"
   ]
  },
  {
   "cell_type": "code",
   "execution_count": 41,
   "metadata": {},
   "outputs": [],
   "source": [
    "def max_features():\n",
    "    max_feat = [10,15,20,25,30,35,40,45]\n",
    "    mf_train_results = []\n",
    "    mf_test_results = []\n",
    "    for max_f in max_feat:\n",
    "       dt = mp(preprocessing,  SMOTE(random_state=42, n_jobs=-1, sampling_strategy='auto'), \\\n",
    "                       DecisionTreeClassifier(max_features=max_f, random_state=42))\n",
    "       dt.fit(X_train, y_train)\n",
    "       train_pred = dt.predict(X_train)\n",
    "       train_results = classification_report(y_train, train_pred, output_dict=True)\n",
    "       mf_train_results.append(train_results['accuracy']) \n",
    "       test_pred = dt.predict(X_test)\n",
    "       test_results = classification_report(y_test, test_pred, output_dict=True)\n",
    "       mf_test_results.append(test_results['accuracy'])\n",
    "\n",
    "    plt.figure(figsize=(12,6))\n",
    "    plt.plot(max_feat, mf_train_results, 'b', label='Train accuracy')\n",
    "    plt.plot(max_feat, mf_test_results, 'r', label='Test accuracy')\n",
    "    plt.ylabel('accuracy')\n",
    "    plt.xlabel('Features')\n",
    "    plt.legend()\n",
    "    plt.show()"
   ]
  },
  {
   "cell_type": "code",
   "execution_count": 42,
   "metadata": {},
   "outputs": [
    {
     "data": {
      "image/png": "[encoded data removed]",
      "text/plain": [
       "<Figure size 864x432 with 1 Axes>"
      ]
     },
     "metadata": {
      "needs_background": "light"
     },
     "output_type": "display_data"
    }
   ],
   "source": [
    "max_features()"
   ]
  },
  {
   "cell_type": "markdown",
   "metadata": {},
   "source": [
    "30 is optimal here"
   ]
  },
  {
   "cell_type": "markdown",
   "metadata": {},
   "source": [
    "## Run Model with Optimal Hyperparameters"
   ]
  },
  {
   "cell_type": "code",
   "execution_count": 48,
   "metadata": {},
   "outputs": [],
   "source": [
    "dt_optimal = mp(preprocessing,  SMOTE(random_state=42, n_jobs=-1, sampling_strategy='auto'), \\\n",
    "                   DecisionTreeClassifier(max_features=30, min_samples_leaf=1,\\\n",
    "                                          min_samples_split=0.8,max_depth=20,random_state=42))"
   ]
  },
  {
   "cell_type": "code",
   "execution_count": 49,
   "metadata": {},
   "outputs": [
    {
     "data": {
      "text/plain": [
       "Pipeline(steps=[('columntransformer',\n",
       "                 ColumnTransformer(remainder='passthrough',\n",
       "                                   transformers=[('onehotencoder',\n",
       "                                                  OneHotEncoder(handle_unknown='ignore'),\n",
       "                                                  <sklearn.compose._column_transformer.make_column_selector object at 0x0000021CA3CB91F0>),\n",
       "                                                 ('standardscaler',\n",
       "                                                  StandardScaler(),\n",
       "                                                  <sklearn.compose._column_transformer.make_column_selector object at 0x0000021CA3CB9250>)])),\n",
       "                ('smote', SMOTE(n_jobs=-1, random_state=42)),\n",
       "                ('decisiontreeclassifier',\n",
       "                 DecisionTreeClassifier(max_depth=20, max_features=30,\n",
       "                                        min_samples_split=0.8,\n",
       "                                        random_state=42))])"
      ]
     },
     "execution_count": 49,
     "metadata": {},
     "output_type": "execute_result"
    }
   ],
   "source": [
    "dt_optimal.fit(X_train, y_train)"
   ]
  },
  {
   "cell_type": "code",
   "execution_count": 50,
   "metadata": {},
   "outputs": [],
   "source": [
    "y_hat_train_opt = dt_optimal.predict(X_train)\n",
    "y_hat_test_opt = dt_optimal.predict(X_test)"
   ]
  },
  {
   "cell_type": "code",
   "execution_count": 51,
   "metadata": {},
   "outputs": [
    {
     "name": "stdout",
     "output_type": "stream",
     "text": [
      "                         precision    recall  f1-score   support\n",
      "\n",
      "             functional       0.86      0.13      0.22     16207\n",
      "functional needs repair       0.09      0.91      0.17      2193\n",
      "         non functional       0.87      0.43      0.57     11600\n",
      "\n",
      "               accuracy                           0.30     30000\n",
      "              macro avg       0.61      0.49      0.32     30000\n",
      "           weighted avg       0.81      0.30      0.35     30000\n",
      "\n"
     ]
    }
   ],
   "source": [
    "print(classification_report(y_train, y_hat_train_opt))"
   ]
  },
  {
   "cell_type": "code",
   "execution_count": 52,
   "metadata": {
    "scrolled": true
   },
   "outputs": [
    {
     "name": "stdout",
     "output_type": "stream",
     "text": [
      "                         precision    recall  f1-score   support\n",
      "\n",
      "             functional       0.88      0.13      0.22      5427\n",
      "functional needs repair       0.10      0.93      0.17       754\n",
      "         non functional       0.87      0.42      0.57      3819\n",
      "\n",
      "               accuracy                           0.30     10000\n",
      "              macro avg       0.62      0.49      0.32     10000\n",
      "           weighted avg       0.82      0.30      0.35     10000\n",
      "\n"
     ]
    }
   ],
   "source": [
    "print(classification_report(y_test, y_hat_test_opt))"
   ]
  },
  {
   "cell_type": "markdown",
   "metadata": {},
   "source": [
    "The model has not improved at all, infact probably got worse by tuning the hyperparameters. On the plus side, the overfitting of the training data has been removed"
   ]
  },
  {
   "cell_type": "markdown",
   "metadata": {},
   "source": [
    "## Validate Model"
   ]
  },
  {
   "cell_type": "code",
   "execution_count": 53,
   "metadata": {},
   "outputs": [
    {
     "data": {
      "text/plain": [
       "0.5956859829427821"
      ]
     },
     "execution_count": 53,
     "metadata": {},
     "output_type": "execute_result"
    }
   ],
   "source": [
    "cross_val_score(dt_optimal, validate.drop(columns='status_group'), validate.status_group).mean()"
   ]
  },
  {
   "cell_type": "code",
   "execution_count": 54,
   "metadata": {},
   "outputs": [],
   "source": [
    "val_preds = dt_optimal.predict(validate.drop(columns='status_group'))\n",
    "val_actual = validate.status_group"
   ]
  },
  {
   "cell_type": "code",
   "execution_count": 55,
   "metadata": {
    "scrolled": true
   },
   "outputs": [
    {
     "name": "stdout",
     "output_type": "stream",
     "text": [
      "                         precision    recall  f1-score   support\n",
      "\n",
      "             functional       0.88      0.13      0.22     10624\n",
      "functional needs repair       0.09      0.92      0.16      1370\n",
      "         non functional       0.88      0.43      0.58      7405\n",
      "\n",
      "               accuracy                           0.30     19399\n",
      "              macro avg       0.62      0.50      0.32     19399\n",
      "           weighted avg       0.82      0.30      0.36     19399\n",
      "\n"
     ]
    }
   ],
   "source": [
    "print(classification_report(val_actual, val_preds))"
   ]
  },
  {
   "cell_type": "code",
   "execution_count": 57,
   "metadata": {},
   "outputs": [
    {
     "data": {
      "text/plain": [
       "0.724110077259789"
      ]
     },
     "execution_count": 57,
     "metadata": {},
     "output_type": "execute_result"
    }
   ],
   "source": [
    "## Check baseline decision tree on validation data\n",
    "\n",
    "cross_val_score(dt_pipeline, validate.drop(columns='status_group'), validate.status_group).mean()"
   ]
  },
  {
   "cell_type": "markdown",
   "metadata": {},
   "source": [
    "## Summary"
   ]
  },
  {
   "cell_type": "markdown",
   "metadata": {},
   "source": [
    "The baseline decision tree performs well but is overfitting on training data, despite this the results on the validation data set are better than the baseline logreg model with SMOTE. The recall score is also better, minimising false negatives in the minority class"
   ]
  },
  {
   "cell_type": "code",
   "execution_count": 58,
   "metadata": {},
   "outputs": [],
   "source": [
    "import pickle\n",
    "file = open('../models/dtsmote.pkl', 'wb')\n",
    "pickle.dump(dt_pipeline, file)\n",
    "file.close()"
   ]
  },
  {
   "cell_type": "code",
   "execution_count": 59,
   "metadata": {},
   "outputs": [],
   "source": [
    "import pickle\n",
    "file = open('../models/tuneddt.pkl', 'wb')\n",
    "pickle.dump(dt_optimal, file)\n",
    "file.close()"
   ]
  },
  {
   "cell_type": "code",
   "execution_count": null,
   "metadata": {},
   "outputs": [],
   "source": []
  }
 ],
 "metadata": {
  "kernelspec": {
   "display_name": "new-env",
   "language": "python",
   "name": "new-env"
  },
  "language_info": {
   "codemirror_mode": {
    "name": "ipython",
    "version": 3
   },
   "file_extension": ".py",
   "mimetype": "text/x-python",
   "name": "python",
   "nbconvert_exporter": "python",
   "pygments_lexer": "ipython3",
   "version": "3.9.2"
  }
 },
 "nbformat": 4,
 "nbformat_minor": 4
}
